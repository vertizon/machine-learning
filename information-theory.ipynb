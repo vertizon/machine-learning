{
 "cells": [
  {
   "cell_type": "markdown",
   "metadata": {},
   "source": [
    "# 信息论"
   ]
  },
  {
   "cell_type": "markdown",
   "metadata": {},
   "source": [
    "## 自信息（self-information)"
   ]
  },
  {
   "cell_type": "markdown",
   "metadata": {},
   "source": [
    "一个事件$X=x$的自信息为：$$I(x)=-logP(x)$$"
   ]
  },
  {
   "cell_type": "markdown",
   "metadata": {},
   "source": [
    "概念解析：\n",
    "- 一个事件的自信息，表示一个随机变量$X$，其取值等于$x$时的信息量\n",
    "- 信息论建立在对信息的量化之上\n",
    "- 信息的量化的基本想法是：\n",
    "    - 越不可能发生的事件的信息量越高 $\\tag{1}$\n",
    "    - 独立事件应该具备增量的信息 $\\tag{2}$\n",
    "- (1)体现在$I(z)=-logz$上，由于$z=P(x) \\in [0,1]$，其函数为:"
   ]
  },
  {
   "cell_type": "code",
   "execution_count": 6,
   "metadata": {},
   "outputs": [
    {
     "data": {
      "text/plain": [
       "[<matplotlib.lines.Line2D at 0x7f6b7fee9850>]"
      ]
     },
     "execution_count": 6,
     "metadata": {},
     "output_type": "execute_result"
    },
    {
     "data": {
      "image/png": "[encoded data removed]",
      "text/plain": [
       "<Figure size 432x288 with 1 Axes>"
      ]
     },
     "metadata": {
      "needs_background": "light"
     },
     "output_type": "display_data"
    }
   ],
   "source": [
    "import numpy as np\n",
    "import matplotlib.pyplot as plt\n",
    "z = np.linspace(0.0001,0.9999,1000)\n",
    "I = -np.log(z)\n",
    "plt.plot(z,I)"
   ]
  },
  {
   "cell_type": "markdown",
   "metadata": {},
   "source": [
    "- (2)体现在：$-logP(x1)P(x2) = - (logP(x1) + logP(x2))$\n",
    "- 该定义是离散随机变量表示的事件的自信息，而不是连续随机变量\n",
    "- 基础概念包括随机变量、事件、概率，见\"概率论\""
   ]
  },
  {
   "cell_type": "markdown",
   "metadata": {},
   "source": [
    "## 香农熵 (shannon entropy)"
   ]
  },
  {
   "cell_type": "markdown",
   "metadata": {},
   "source": [
    "随机变量$X$的香农熵的定义：$$H(X)=E_{X\\sim P}[I(x)]=-E_{X\\sim P}[logP(x)]$$"
   ]
  },
  {
   "cell_type": "markdown",
   "metadata": {},
   "source": [
    "概念解析:\n",
    "- 意义: 香农熵衡量整个随机变量的信息量（也即不确定性），而不是随机变量的某个取值\n",
    "- $E_{X\\sim P}$是数学期望，见\"概率论\""
   ]
  },
  {
   "cell_type": "markdown",
   "metadata": {},
   "source": [
    "## 相对熵 (relative entropy)"
   ]
  },
  {
   "cell_type": "markdown",
   "metadata": {},
   "source": [
    "随机变量的两个分布的相对熵，也称KL散度(Kullback-Leibler divergence)，定义：$$D_{KL}(P||Q)=E_{X \\sim P}[log\\frac{P(x)}{Q(x)}]$$\n",
    "\n",
    "概念解析:\n",
    "- 可以证明其值大于等于0，证明见：https://developer.aliyun.com/article/288604\n",
    "- 物理意义是：信息量的差，一个随机变量的Q分布相对P的信息差\n",
    "- 越接近0信息差越小"
   ]
  },
  {
   "cell_type": "markdown",
   "metadata": {},
   "source": [
    "## 交叉熵 (cross entropy)"
   ]
  },
  {
   "cell_type": "markdown",
   "metadata": {},
   "source": [
    "随机变量的两个分布的交叉熵，定义：$$H(P,Q)=-E_{X\\sim P}logQ(x)$$"
   ]
  },
  {
   "cell_type": "markdown",
   "metadata": {},
   "source": [
    "概念解析：\n",
    "- $D_{KL}(P||Q) + H(P) =  H(P,Q)$，针对$Q$最小化$D_{KL}$，等价于最小化$H(P,Q)$，因此，最小化交叉熵，就是针对分布$Q$最小化其于真实分布$P$之间的信息差"
   ]
  },
  {
   "cell_type": "markdown",
   "metadata": {},
   "source": [
    "## 机器学习中使用交叉熵\n",
    "\n"
   ]
  },
  {
   "cell_type": "markdown",
   "metadata": {},
   "source": [
    "- loss function: $Loss(y, \\hat{y}) = H(y||\\hat{y}) $，针对$\\hat{y}$求$Loss$的最小化，即求$H$也即求$D_{KL}$的最小化。\n",
    "- $\\hat{y} = [y1, y2, ..., yn]$，将这里的yi解释为取第i个值的概率，则$\\hat{y}$就变成一个离散随机变量的分布，而y是真实分布，从而求两个分布的差距，最小化之。\n",
    "- 二分类：$Loss(y, \\hat{y}) = -ylog\\hat{y} - (1-y)log(1-\\hat{y})$, 这里$y$和$1-y$分别是取一个分类和另一个分类的概率\n",
    "- 多分类：$Loss(y, \\hat{y}) = \\sum_{i}{-y_{i}log\\hat{y}_{i}}$，这里$y_{i}$是取分类$i$的概率"
   ]
  }
 ],
 "metadata": {
  "kernelspec": {
   "display_name": "Python 3",
   "language": "python",
   "name": "python3"
  },
  "language_info": {
   "codemirror_mode": {
    "name": "ipython",
    "version": 3
   },
   "file_extension": ".py",
   "mimetype": "text/x-python",
   "name": "python",
   "nbconvert_exporter": "python",
   "pygments_lexer": "ipython3",
   "version": "3.8.3"
  }
 },
 "nbformat": 4,
 "nbformat_minor": 4
}
