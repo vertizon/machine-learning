{
 "cells": [
  {
   "cell_type": "markdown",
   "metadata": {},
   "source": [
    "# h5py"
   ]
  },
  {
   "cell_type": "markdown",
   "metadata": {},
   "source": [
    "## 写\n",
    "把一个目录的两张图片写入一个h5文件的dataset里"
   ]
  },
  {
   "cell_type": "code",
   "execution_count": 7,
   "metadata": {},
   "outputs": [
    {
     "name": "stdout",
     "output_type": "stream",
     "text": [
      "cats file list is:['cats/cat1.jpg', 'cats/cat2.jpg']\n"
     ]
    }
   ],
   "source": [
    "import cv2\n",
    "import h5py\n",
    "import os\n",
    "import numpy as np\n",
    "import matplotlib.pyplot as plt\n",
    "    \n",
    "def get_cats_file_list(dir):\n",
    "    cats_dir = os.walk(dir)\n",
    "    cats_file_list = []\n",
    "    for path,dir_list,file_list in cats_dir:\n",
    "        for file in file_list:\n",
    "            cats_file_list.append(\"{}/{}\".format(dir,file))\n",
    "    print(\"cats file list is:{}\".format(cats_file_list))\n",
    "    return cats_file_list\n",
    "\n",
    "cats_file_list = get_cats_file_list(\"cats\")"
   ]
  },
  {
   "cell_type": "code",
   "execution_count": 8,
   "metadata": {},
   "outputs": [
    {
     "name": "stdout",
     "output_type": "stream",
     "text": [
      "(392, 555, 3)\n"
     ]
    }
   ],
   "source": [
    "def get_image_shape(image_file):\n",
    "    return cv2.imread(image_file).shape\n",
    "\n",
    "print(get_image_shape(cats_file_list[0]))\n"
   ]
  },
  {
   "cell_type": "code",
   "execution_count": 10,
   "metadata": {
    "collapsed": true
   },
   "outputs": [
    {
     "name": "stdout",
     "output_type": "stream",
     "text": [
      "dataset shape is (2, 392, 555, 3)\n"
     ]
    },
    {
     "data": {
      "text/plain": [
       "array([[[[131, 142, 146],\n",
       "         [131, 142, 146],\n",
       "         [131, 142, 146],\n",
       "         ...,\n",
       "         [123, 135, 139],\n",
       "         [123, 135, 139],\n",
       "         [123, 135, 139]],\n",
       "\n",
       "        [[131, 142, 146],\n",
       "         [131, 142, 146],\n",
       "         [131, 142, 146],\n",
       "         ...,\n",
       "         [123, 135, 139],\n",
       "         [123, 135, 139],\n",
       "         [123, 135, 139]],\n",
       "\n",
       "        [[131, 142, 146],\n",
       "         [131, 142, 146],\n",
       "         [131, 142, 146],\n",
       "         ...,\n",
       "         [123, 135, 139],\n",
       "         [123, 135, 139],\n",
       "         [123, 135, 139]],\n",
       "\n",
       "        ...,\n",
       "\n",
       "        [[188, 206, 223],\n",
       "         [188, 206, 223],\n",
       "         [188, 206, 223],\n",
       "         ...,\n",
       "         [168, 185, 194],\n",
       "         [168, 185, 194],\n",
       "         [169, 186, 195]],\n",
       "\n",
       "        [[187, 205, 222],\n",
       "         [187, 205, 222],\n",
       "         [187, 205, 222],\n",
       "         ...,\n",
       "         [171, 188, 197],\n",
       "         [172, 189, 198],\n",
       "         [173, 190, 199]],\n",
       "\n",
       "        [[187, 205, 222],\n",
       "         [187, 205, 222],\n",
       "         [187, 205, 222],\n",
       "         ...,\n",
       "         [176, 193, 202],\n",
       "         [177, 194, 203],\n",
       "         [177, 194, 203]]],\n",
       "\n",
       "\n",
       "       [[[131, 142, 146],\n",
       "         [131, 142, 146],\n",
       "         [131, 142, 146],\n",
       "         ...,\n",
       "         [123, 135, 139],\n",
       "         [123, 135, 139],\n",
       "         [123, 135, 139]],\n",
       "\n",
       "        [[131, 142, 146],\n",
       "         [131, 142, 146],\n",
       "         [131, 142, 146],\n",
       "         ...,\n",
       "         [123, 135, 139],\n",
       "         [123, 135, 139],\n",
       "         [123, 135, 139]],\n",
       "\n",
       "        [[131, 142, 146],\n",
       "         [131, 142, 146],\n",
       "         [131, 142, 146],\n",
       "         ...,\n",
       "         [123, 135, 139],\n",
       "         [123, 135, 139],\n",
       "         [123, 135, 139]],\n",
       "\n",
       "        ...,\n",
       "\n",
       "        [[188, 206, 223],\n",
       "         [188, 206, 223],\n",
       "         [188, 206, 223],\n",
       "         ...,\n",
       "         [168, 185, 194],\n",
       "         [168, 185, 194],\n",
       "         [169, 186, 195]],\n",
       "\n",
       "        [[187, 205, 222],\n",
       "         [187, 205, 222],\n",
       "         [187, 205, 222],\n",
       "         ...,\n",
       "         [171, 188, 197],\n",
       "         [172, 189, 198],\n",
       "         [173, 190, 199]],\n",
       "\n",
       "        [[187, 205, 222],\n",
       "         [187, 205, 222],\n",
       "         [187, 205, 222],\n",
       "         ...,\n",
       "         [176, 193, 202],\n",
       "         [177, 194, 203],\n",
       "         [177, 194, 203]]]], dtype=uint8)"
      ]
     },
     "execution_count": 10,
     "metadata": {},
     "output_type": "execute_result"
    }
   ],
   "source": [
    "def read_image(file_list):\n",
    "    image_shape = get_image_shape(file_list[0])\n",
    "    dataset = np.empty(shape=((len(file_list),)+image_shape),dtype=np.uint8)\n",
    "    print(\"dataset shape is {}\".format(dataset.shape))\n",
    "    i = 0\n",
    "    for file in file_list:\n",
    "        dataset[i] = cv2.imread(file)\n",
    "        i += 1\n",
    "#     print(\"dataset is {}\".format(dataset))\n",
    "    return dataset\n",
    "dataset = read_image(cats_file_list)\n",
    "dataset"
   ]
  },
  {
   "cell_type": "code",
   "execution_count": 12,
   "metadata": {},
   "outputs": [],
   "source": [
    "with h5py.File(\"cats.h5\", \"w\") as f:\n",
    "    f.create_dataset(\"cats\", data=dataset)"
   ]
  },
  {
   "cell_type": "markdown",
   "metadata": {},
   "source": [
    "## 读\n",
    "\n",
    "读一个h5中的一个dateset的两张图片，并且把图片画出来"
   ]
  },
  {
   "cell_type": "code",
   "execution_count": 14,
   "metadata": {},
   "outputs": [
    {
     "name": "stdout",
     "output_type": "stream",
     "text": [
      "cats dataset shape (2, 392, 555, 3)\n"
     ]
    },
    {
     "data": {
      "image/png": "[encoded data removed]",
      "text/plain": [
       "<Figure size 432x288 with 2 Axes>"
      ]
     },
     "metadata": {
      "needs_background": "light"
     },
     "output_type": "display_data"
    }
   ],
   "source": [
    "with h5py.File(\"cats.h5\", \"r\") as f:\n",
    "    print(\"cats dataset shape {}\".format(f[\"cats\"].shape))\n",
    "    plt.figure()\n",
    "    plt.subplot(1,2,1)\n",
    "    plt.imshow(f[\"cats\"][0])\n",
    "    plt.subplot(1,2,2)\n",
    "    plt.imshow(f[\"cats\"][1])"
   ]
  }
 ],
 "metadata": {
  "kernelspec": {
   "display_name": "Python 3",
   "language": "python",
   "name": "python3"
  },
  "language_info": {
   "codemirror_mode": {
    "name": "ipython",
    "version": 3
   },
   "file_extension": ".py",
   "mimetype": "text/x-python",
   "name": "python",
   "nbconvert_exporter": "python",
   "pygments_lexer": "ipython3",
   "version": "3.8.3"
  }
 },
 "nbformat": 4,
 "nbformat_minor": 4
}
