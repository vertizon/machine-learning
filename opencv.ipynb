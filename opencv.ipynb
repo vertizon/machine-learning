{
 "cells": [
  {
   "cell_type": "markdown",
   "metadata": {},
   "source": [
    "# opencv"
   ]
  },
  {
   "cell_type": "markdown",
   "metadata": {},
   "source": [
    "## 读图片"
   ]
  },
  {
   "cell_type": "code",
   "execution_count": 1,
   "metadata": {},
   "outputs": [
    {
     "name": "stdout",
     "output_type": "stream",
     "text": [
      "(392, 555, 3)\n"
     ]
    }
   ],
   "source": [
    "import cv2\n",
    "\n",
    "image_path = \"cats/cat1.jpg\"\n",
    "image = cv2.imread(image_path)\n",
    "print(image.shape)"
   ]
  },
  {
   "cell_type": "code",
   "execution_count": 2,
   "metadata": {},
   "outputs": [
    {
     "data": {
      "text/plain": [
       "array([[[131, 142, 146],\n",
       "        [131, 142, 146],\n",
       "        [131, 142, 146],\n",
       "        ...,\n",
       "        [123, 135, 139],\n",
       "        [123, 135, 139],\n",
       "        [123, 135, 139]],\n",
       "\n",
       "       [[131, 142, 146],\n",
       "        [131, 142, 146],\n",
       "        [131, 142, 146],\n",
       "        ...,\n",
       "        [123, 135, 139],\n",
       "        [123, 135, 139],\n",
       "        [123, 135, 139]],\n",
       "\n",
       "       [[131, 142, 146],\n",
       "        [131, 142, 146],\n",
       "        [131, 142, 146],\n",
       "        ...,\n",
       "        [123, 135, 139],\n",
       "        [123, 135, 139],\n",
       "        [123, 135, 139]],\n",
       "\n",
       "       ...,\n",
       "\n",
       "       [[188, 206, 223],\n",
       "        [188, 206, 223],\n",
       "        [188, 206, 223],\n",
       "        ...,\n",
       "        [168, 185, 194],\n",
       "        [168, 185, 194],\n",
       "        [169, 186, 195]],\n",
       "\n",
       "       [[187, 205, 222],\n",
       "        [187, 205, 222],\n",
       "        [187, 205, 222],\n",
       "        ...,\n",
       "        [171, 188, 197],\n",
       "        [172, 189, 198],\n",
       "        [173, 190, 199]],\n",
       "\n",
       "       [[187, 205, 222],\n",
       "        [187, 205, 222],\n",
       "        [187, 205, 222],\n",
       "        ...,\n",
       "        [176, 193, 202],\n",
       "        [177, 194, 203],\n",
       "        [177, 194, 203]]], dtype=uint8)"
      ]
     },
     "execution_count": 2,
     "metadata": {},
     "output_type": "execute_result"
    }
   ],
   "source": [
    "image"
   ]
  },
  {
   "cell_type": "code",
   "execution_count": 3,
   "metadata": {},
   "outputs": [
    {
     "data": {
      "text/plain": [
       "numpy.ndarray"
      ]
     },
     "execution_count": 3,
     "metadata": {},
     "output_type": "execute_result"
    }
   ],
   "source": [
    "type(image)"
   ]
  }
 ],
 "metadata": {
  "kernelspec": {
   "display_name": "Python 3",
   "language": "python",
   "name": "python3"
  },
  "language_info": {
   "codemirror_mode": {
    "name": "ipython",
    "version": 3
   },
   "file_extension": ".py",
   "mimetype": "text/x-python",
   "name": "python",
   "nbconvert_exporter": "python",
   "pygments_lexer": "ipython3",
   "version": "3.8.3"
  }
 },
 "nbformat": 4,
 "nbformat_minor": 4
}
