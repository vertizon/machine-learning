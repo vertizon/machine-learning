{
 "cells": [
  {
   "cell_type": "markdown",
   "metadata": {},
   "source": [
    "# 微积分"
   ]
  },
  {
   "cell_type": "markdown",
   "metadata": {},
   "source": [
    "## 集合\n",
    "\n",
    "集合：具有某种特定性质的事物的总体。\n",
    "\n",
    "元素：组成这个集合的事物。\n",
    "\n",
    "如何表示集合：\n",
    "\n",
    "- 列举出集合的所有元素\n",
    "- 描述元素具有的性质（更重要）\n",
    "\n",
    "运算：交、并、差\n",
    "\n",
    "运算律：交换律、结合律、分配律、对偶律\n",
    "\n",
    "区间：一种数集，即开区间、闭区间、无限区间\n",
    "\n",
    "邻域：一种区间，以a为中心的开区间"
   ]
  },
  {
   "cell_type": "markdown",
   "metadata": {},
   "source": [
    "## 函数\n",
    "\n",
    "### 映射\n",
    "\n",
    "![](doc/map.png)\n",
    "\n",
    "\n",
    "概念解析：\n",
    "- 一个集合到另一个集合的对应法则。\n",
    "- 集合$X$、集合$Y$和法则$f$都必须存在。\n",
    "- $f$是对应法则，为什么这么对应，而不是那么对应，就是$x$到$y$的数量因果关系。\n",
    "\n",
    "### 函数的概念\n",
    "\n",
    "![](doc/function.png)\n",
    "\n",
    "概念解析：\n",
    "- 是定义在数集的映射，就是数到数的映射，数来自集合，第一个数的变化，另一个数也跟着变化。\n",
    "- 因果：函数是一种因果关系，自变量是因，因变量是果，函数描述了这种因果关系，描述因变量如何随自变量变化而变化。并且不是一般的因果，而是映射。\n",
    "- 数量：而且是数量关系，$x$和$y$并不是现实世界本身，而是从现实世界提取的变量的数量，或有数量的变量。\n",
    "- 变化：自变量的变化如何导致因变量的变化，这是研究变化，因此，函数描述了变化的量的因果关系。\n",
    "\n",
    "函数的表示：函数既然是映射，就可以用表示映射的方法表示函数，一般想到的是公式（变量和运算），其实还有图形、表格。\n",
    "\n",
    "基于函数的定义，可以衍生出另外一些函数：\n",
    "- 反函数：原来函数的映射的逆映射\n",
    "- 复合函数：把映射链接起来（有向无环图）\n",
    "- 多元函数：自变量有多个\n",
    "\n",
    "函数的特性：\n",
    "- 有界性、单调性、奇偶性、周期性\n",
    "\n",
    "运算：\n",
    "- +：最基础的，表示一种组合，事物的组合，反向操作：-\n",
    "- \\*：从加衍生出来的，多个加。但若从另一个角度理解，即，一个东西x作用于另一个东西y后，是倍数的关系，即，x能使y变大x倍，不过本质还是组合，反向操作/\n",
    "- ^：幂运算(指数运算) Exponentiation(power)：x^n （x是底数，n是指数），从乘衍生出来的，多个自乘，反向操作：n次开方。也是组合，和分解。但是是不断的自我乘性（最初的那个）作用。"
   ]
  },
  {
   "cell_type": "markdown",
   "metadata": {},
   "source": [
    "### 初等函数\n",
    "\n",
    "![](doc/basic_function.png)"
   ]
  },
  {
   "cell_type": "markdown",
   "metadata": {},
   "source": [
    "## 极限\n",
    "\n",
    "极限这里指的是函数的极限，函数的极限的概念的定义：\n",
    "![](doc/limit1.png)\n",
    "![](doc/limit2.png)"
   ]
  },
  {
   "cell_type": "markdown",
   "metadata": {},
   "source": [
    "## 导数和微分\n",
    "\n",
    "导数(derivative)的定义：![](doc/derivative.png)\n",
    "概念解析：\n",
    "- 也是函数的极限\n",
    "- 意义：因变量随自变量变化的快慢程度的数量表达，即函数的变化率。几何上，表示切线的斜率。\n",
    "\n",
    "微分(differential)的定义：![](doc/differential1.png) ![](doc/differential2.png)"
   ]
  },
  {
   "cell_type": "markdown",
   "metadata": {},
   "source": [
    "## 积分(integral)\n",
    "\n",
    "### 不定积分\n",
    "\n",
    "![](doc/i1.png) ![](doc/i2.png)\n",
    "\n",
    "### 定积分"
   ]
  },
  {
   "cell_type": "markdown",
   "metadata": {},
   "source": [
    "![](doc/ii1.png)![](doc/ii2.png)\n",
    "概念解析：\n",
    "- 首先，定积分是一个值，极限值\n",
    "- 这个值依赖于函数、下限、上限\n",
    "- 能算法出积分的条件：极限存在，具体的，有两个定理：\n",
    "    - 函数在[a,b]上连续，就可积\n",
    "    - 函数在[a,b]上有界，且只有有限个间断点，就可积        \n",
    "- 物理意义：函数和x轴围成的面积，直观上，如果函数连续，则在微小的x变化内，y不变，因此可以用x的小区间乘以y来近似小区间面积\n",
    "- 从近似到精确，需要用到极限的概念\n",
    "- 给定函数和上下限，如何求定积分，就是求极限"
   ]
  },
  {
   "cell_type": "markdown",
   "metadata": {},
   "source": [
    "## 多元函数\n",
    "\n",
    "![](doc/mf.png)\n",
    "\n",
    "### 偏导数\n",
    "\n",
    "![](doc/pd.png)\n",
    "\n",
    "高阶偏导数：\n",
    "![](doc/gpd.png)\n",
    "\n",
    "### 方向导数\n",
    "\n",
    "定义：![](doc/fxd.png)\n",
    "\n",
    "意义：任意方向的斜率\n",
    "\n",
    "求值（与偏导的关系）：\n",
    "\n",
    "![](doc/fxdv.png)\n",
    "\n",
    "### 梯度\n",
    "\n"
   ]
  },
  {
   "cell_type": "markdown",
   "metadata": {},
   "source": [
    "定义：\n",
    "![](doc/grad.png)![](doc/grad1.png)\n",
    "\n",
    "与方向导数的关系：\n",
    "![](doc/grad2.png)\n",
    "\n",
    "梯度的意义：\n",
    "- 方向导数在梯度方向取得最大值\n",
    "- 梯度的方向，就是等值线法线的方向；梯度的模，就是沿法线方向的方向导数\n"
   ]
  }
 ],
 "metadata": {
  "kernelspec": {
   "display_name": "Python 3",
   "language": "python",
   "name": "python3"
  },
  "language_info": {
   "codemirror_mode": {
    "name": "ipython",
    "version": 3
   },
   "file_extension": ".py",
   "mimetype": "text/x-python",
   "name": "python",
   "nbconvert_exporter": "python",
   "pygments_lexer": "ipython3",
   "version": "3.8.3"
  }
 },
 "nbformat": 4,
 "nbformat_minor": 4
}
